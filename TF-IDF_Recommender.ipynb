{
 "cells": [
  {
   "cell_type": "code",
   "execution_count": 1,
   "id": "b0e07a84",
   "metadata": {},
   "outputs": [],
   "source": [
    "\n",
    "import pandas as pd\n",
    "from sklearn.feature_extraction.text import TfidfVectorizer\n",
    "from sklearn.metrics.pairwise import cosine_similarity\n",
    "import ast"
   ]
  },
  {
   "cell_type": "code",
   "execution_count": 2,
   "id": "69730011",
   "metadata": {},
   "outputs": [
    {
     "name": "stdout",
     "output_type": "stream",
     "text": [
      "Recommended for 'The Dark Knight Rises':\n",
      "65           The Dark Knight\n",
      "119            Batman Begins\n",
      "428           Batman Returns\n",
      "210           Batman & Robin\n",
      "1359                  Batman\n",
      "2793    The Killer Inside Me\n",
      "1010              Panic Room\n",
      "3819                Defendor\n",
      "299           Batman Forever\n",
      "813                 Superman\n",
      "Name: title, dtype: object\n"
     ]
    }
   ],
   "source": [
    "# Load dataset\n",
    "df = pd.read_csv('data/tmdb_5000_movies.csv')\n",
    "\n",
    "# Parse JSON-like strings into actual lists\n",
    "df['genres'] = df['genres'].map(lambda x: [i['name'] for i in ast.literal_eval(x)])\n",
    "df['keywords'] = df['keywords'].map(lambda x: [i['name'] for i in ast.literal_eval(x)])\n",
    "\n",
    "# Combine features into one string for TF-IDF\n",
    "df['combined_features'] = df['keywords'].apply(lambda x: \" \".join(x)) + \" \" + df['genres'].apply(lambda x: \" \".join(x))\n",
    "\n",
    "# TF-IDF Vectorization\n",
    "tfidf = TfidfVectorizer(stop_words='english', max_features=5000, ngram_range=(1, 2))\n",
    "tfidf_matrix = tfidf.fit_transform(df['combined_features'])\n",
    "\n",
    "# Compute cosine similarity matrix\n",
    "cosine_sim = cosine_similarity(tfidf_matrix, tfidf_matrix)\n",
    "\n",
    "# Recommendation function\n",
    "def recommend(title, cosine_sim=cosine_sim):\n",
    "    if title not in df['title'].values:\n",
    "        return f\"'{title}' not found in the dataset.\"\n",
    "    idx = df[df['title'] == title].index[0]\n",
    "    sim_scores = list(enumerate(cosine_sim[idx]))\n",
    "    sim_scores = sorted(sim_scores, key=lambda x: x[1], reverse=True)\n",
    "    sim_scores = sim_scores[1:11]  # Top 10 similar movies\n",
    "    movie_indices = [i[0] for i in sim_scores]\n",
    "    return df['title'].iloc[movie_indices]\n",
    "\n",
    "# Example usage\n",
    "print(\"Recommended for 'The Dark Knight Rises':\")\n",
    "print(recommend('The Dark Knight Rises'))\n"
   ]
  },
  {
   "cell_type": "code",
   "execution_count": 3,
   "id": "8a258ec5",
   "metadata": {},
   "outputs": [],
   "source": [
    "\n",
    "# User profile-based recommendation\n",
    "def personalized_recommend(liked_titles, top_n=10):\n",
    "    liked_indices = df[df['title'].isin(liked_titles)].index\n",
    "    if len(liked_indices) == 0:\n",
    "        return \"No liked titles found in the dataset.\"\n",
    "    \n",
    "    user_profile = tfidf_matrix[liked_indices].mean(axis=0)\n",
    "    similarity_scores = cosine_similarity(user_profile, tfidf_matrix).flatten()\n",
    "    recommended_indices = similarity_scores.argsort()[::-1]\n",
    "    recommended_indices = [i for i in recommended_indices if i not in liked_indices][:top_n]\n",
    "    return df.iloc[recommended_indices]['title']\n"
   ]
  },
  {
   "cell_type": "code",
   "execution_count": null,
   "id": "804c2f60",
   "metadata": {},
   "outputs": [],
   "source": []
  }
 ],
 "metadata": {
  "kernelspec": {
   "display_name": "nlp-env",
   "language": "python",
   "name": "python3"
  },
  "language_info": {
   "codemirror_mode": {
    "name": "ipython",
    "version": 3
   },
   "file_extension": ".py",
   "mimetype": "text/x-python",
   "name": "python",
   "nbconvert_exporter": "python",
   "pygments_lexer": "ipython3",
   "version": "3.12.6"
  }
 },
 "nbformat": 4,
 "nbformat_minor": 5
}
